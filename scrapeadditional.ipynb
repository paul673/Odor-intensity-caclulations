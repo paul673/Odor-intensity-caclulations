{
 "cells": [
  {
   "cell_type": "code",
   "execution_count": 1,
   "metadata": {},
   "outputs": [],
   "source": [
    "import re\n",
    "import requests\n",
    "from bs4 import BeautifulSoup\n",
    "\n",
    "from selenium import webdriver\n",
    "from selenium.webdriver.common.by import By\n",
    "\n",
    "import time\n",
    "\n",
    "import pandas as pd\n",
    "\n",
    "from selenium.webdriver.common.keys import Keys"
   ]
  },
  {
   "cell_type": "code",
   "execution_count": 2,
   "metadata": {},
   "outputs": [],
   "source": [
    "import warnings\n",
    "warnings.filterwarnings('ignore')"
   ]
  },
  {
   "cell_type": "code",
   "execution_count": 3,
   "metadata": {},
   "outputs": [
    {
     "data": {
      "text/html": [
       "<div>\n",
       "<style scoped>\n",
       "    .dataframe tbody tr th:only-of-type {\n",
       "        vertical-align: middle;\n",
       "    }\n",
       "\n",
       "    .dataframe tbody tr th {\n",
       "        vertical-align: top;\n",
       "    }\n",
       "\n",
       "    .dataframe thead th {\n",
       "        text-align: right;\n",
       "    }\n",
       "</style>\n",
       "<table border=\"1\" class=\"dataframe\">\n",
       "  <thead>\n",
       "    <tr style=\"text-align: right;\">\n",
       "      <th></th>\n",
       "      <th>name</th>\n",
       "      <th>cas</th>\n",
       "      <th>composition</th>\n",
       "    </tr>\n",
       "  </thead>\n",
       "  <tbody>\n",
       "    <tr>\n",
       "      <th>0</th>\n",
       "      <td>alpha-Pinene</td>\n",
       "      <td>80-56-8</td>\n",
       "      <td>0.281</td>\n",
       "    </tr>\n",
       "    <tr>\n",
       "      <th>1</th>\n",
       "      <td>delta-3-Carene</td>\n",
       "      <td>13466-78-9</td>\n",
       "      <td>0.237</td>\n",
       "    </tr>\n",
       "    <tr>\n",
       "      <th>2</th>\n",
       "      <td>Caryophyllene oxide</td>\n",
       "      <td>1139-30-6</td>\n",
       "      <td>0.049</td>\n",
       "    </tr>\n",
       "    <tr>\n",
       "      <th>3</th>\n",
       "      <td>delta-Cadinene</td>\n",
       "      <td>483-76-1</td>\n",
       "      <td>0.048</td>\n",
       "    </tr>\n",
       "    <tr>\n",
       "      <th>4</th>\n",
       "      <td>Camphene</td>\n",
       "      <td>79-92-5</td>\n",
       "      <td>0.034</td>\n",
       "    </tr>\n",
       "  </tbody>\n",
       "</table>\n",
       "</div>"
      ],
      "text/plain": [
       "                  name         cas  composition\n",
       "0         alpha-Pinene     80-56-8        0.281\n",
       "1       delta-3-Carene  13466-78-9        0.237\n",
       "2  Caryophyllene oxide   1139-30-6        0.049\n",
       "3       delta-Cadinene    483-76-1        0.048\n",
       "4             Camphene     79-92-5        0.034"
      ]
     },
     "execution_count": 3,
     "metadata": {},
     "output_type": "execute_result"
    }
   ],
   "source": [
    "df_pine = pd.read_csv(\"src/smiles_pine.csv\")[[\"name\",\"cas\",\"composition\"]]\n",
    "df_pine.head()"
   ]
  },
  {
   "cell_type": "code",
   "execution_count": 4,
   "metadata": {},
   "outputs": [
    {
     "data": {
      "text/html": [
       "<div>\n",
       "<style scoped>\n",
       "    .dataframe tbody tr th:only-of-type {\n",
       "        vertical-align: middle;\n",
       "    }\n",
       "\n",
       "    .dataframe tbody tr th {\n",
       "        vertical-align: top;\n",
       "    }\n",
       "\n",
       "    .dataframe thead th {\n",
       "        text-align: right;\n",
       "    }\n",
       "</style>\n",
       "<table border=\"1\" class=\"dataframe\">\n",
       "  <thead>\n",
       "    <tr style=\"text-align: right;\">\n",
       "      <th></th>\n",
       "      <th>fetched_name</th>\n",
       "      <th>vapour_pressure</th>\n",
       "      <th>url</th>\n",
       "      <th>vapour_pressure2</th>\n",
       "    </tr>\n",
       "  </thead>\n",
       "  <tbody>\n",
       "    <tr>\n",
       "      <th>0</th>\n",
       "      <td>(+)-α-Pinene</td>\n",
       "      <td>3.5±0.1 mmHg at 25°C</td>\n",
       "      <td>https://www.chemspider.com/Chemical-Structure....</td>\n",
       "      <td>3.5</td>\n",
       "    </tr>\n",
       "    <tr>\n",
       "      <th>1</th>\n",
       "      <td>carene</td>\n",
       "      <td>1.9±0.1 mmHg at 25°C</td>\n",
       "      <td>https://www.chemspider.com/Chemical-Structure....</td>\n",
       "      <td>1.9</td>\n",
       "    </tr>\n",
       "    <tr>\n",
       "      <th>2</th>\n",
       "      <td>(−)-β-Caryophyllene epoxide</td>\n",
       "      <td>0.0±0.6 mmHg at 25°C</td>\n",
       "      <td>https://www.chemspider.com/Chemical-Structure....</td>\n",
       "      <td>0.0</td>\n",
       "    </tr>\n",
       "    <tr>\n",
       "      <th>3</th>\n",
       "      <td>d-Cadinene</td>\n",
       "      <td>0.0±0.3 mmHg at 25°C</td>\n",
       "      <td>https://www.chemspider.com/Chemical-Structure....</td>\n",
       "      <td>0.0</td>\n",
       "    </tr>\n",
       "    <tr>\n",
       "      <th>4</th>\n",
       "      <td>Camphene</td>\n",
       "      <td>3.4±0.1 mmHg at 25°C</td>\n",
       "      <td>https://www.chemspider.com/Chemical-Structure....</td>\n",
       "      <td>3.4</td>\n",
       "    </tr>\n",
       "  </tbody>\n",
       "</table>\n",
       "</div>"
      ],
      "text/plain": [
       "                  fetched_name       vapour_pressure  \\\n",
       "0                 (+)-α-Pinene  3.5±0.1 mmHg at 25°C   \n",
       "1                       carene  1.9±0.1 mmHg at 25°C   \n",
       "2  (−)-β-Caryophyllene epoxide  0.0±0.6 mmHg at 25°C   \n",
       "3                   d-Cadinene  0.0±0.3 mmHg at 25°C   \n",
       "4                     Camphene  3.4±0.1 mmHg at 25°C   \n",
       "\n",
       "                                                 url  vapour_pressure2  \n",
       "0  https://www.chemspider.com/Chemical-Structure....               3.5  \n",
       "1  https://www.chemspider.com/Chemical-Structure....               1.9  \n",
       "2  https://www.chemspider.com/Chemical-Structure....               0.0  \n",
       "3  https://www.chemspider.com/Chemical-Structure....               0.0  \n",
       "4  https://www.chemspider.com/Chemical-Structure....               3.4  "
      ]
     },
     "execution_count": 4,
     "metadata": {},
     "output_type": "execute_result"
    }
   ],
   "source": [
    "df_fetched = pd.read_csv(\"scaped_vp.csv\")\n",
    "df_fetched = df_fetched[[\"fetched_name\",\"vapour_pressure\",\"url\",\"vapour_pressure2\"]]\n",
    "df_fetched.head()"
   ]
  },
  {
   "cell_type": "code",
   "execution_count": 5,
   "metadata": {},
   "outputs": [
    {
     "data": {
      "text/html": [
       "<div>\n",
       "<style scoped>\n",
       "    .dataframe tbody tr th:only-of-type {\n",
       "        vertical-align: middle;\n",
       "    }\n",
       "\n",
       "    .dataframe tbody tr th {\n",
       "        vertical-align: top;\n",
       "    }\n",
       "\n",
       "    .dataframe thead th {\n",
       "        text-align: right;\n",
       "    }\n",
       "</style>\n",
       "<table border=\"1\" class=\"dataframe\">\n",
       "  <thead>\n",
       "    <tr style=\"text-align: right;\">\n",
       "      <th></th>\n",
       "      <th>name</th>\n",
       "      <th>cas</th>\n",
       "      <th>composition</th>\n",
       "      <th>fetched_name</th>\n",
       "      <th>vapour_pressure</th>\n",
       "      <th>url</th>\n",
       "      <th>vapour_pressure2</th>\n",
       "    </tr>\n",
       "  </thead>\n",
       "  <tbody>\n",
       "    <tr>\n",
       "      <th>0</th>\n",
       "      <td>alpha-Pinene</td>\n",
       "      <td>80-56-8</td>\n",
       "      <td>0.281</td>\n",
       "      <td>(+)-α-Pinene</td>\n",
       "      <td>3.5±0.1 mmHg at 25°C</td>\n",
       "      <td>https://www.chemspider.com/Chemical-Structure....</td>\n",
       "      <td>3.5</td>\n",
       "    </tr>\n",
       "    <tr>\n",
       "      <th>1</th>\n",
       "      <td>delta-3-Carene</td>\n",
       "      <td>13466-78-9</td>\n",
       "      <td>0.237</td>\n",
       "      <td>carene</td>\n",
       "      <td>1.9±0.1 mmHg at 25°C</td>\n",
       "      <td>https://www.chemspider.com/Chemical-Structure....</td>\n",
       "      <td>1.9</td>\n",
       "    </tr>\n",
       "    <tr>\n",
       "      <th>2</th>\n",
       "      <td>Caryophyllene oxide</td>\n",
       "      <td>1139-30-6</td>\n",
       "      <td>0.049</td>\n",
       "      <td>(−)-β-Caryophyllene epoxide</td>\n",
       "      <td>0.0±0.6 mmHg at 25°C</td>\n",
       "      <td>https://www.chemspider.com/Chemical-Structure....</td>\n",
       "      <td>0.0</td>\n",
       "    </tr>\n",
       "    <tr>\n",
       "      <th>3</th>\n",
       "      <td>delta-Cadinene</td>\n",
       "      <td>483-76-1</td>\n",
       "      <td>0.048</td>\n",
       "      <td>d-Cadinene</td>\n",
       "      <td>0.0±0.3 mmHg at 25°C</td>\n",
       "      <td>https://www.chemspider.com/Chemical-Structure....</td>\n",
       "      <td>0.0</td>\n",
       "    </tr>\n",
       "    <tr>\n",
       "      <th>4</th>\n",
       "      <td>Camphene</td>\n",
       "      <td>79-92-5</td>\n",
       "      <td>0.034</td>\n",
       "      <td>Camphene</td>\n",
       "      <td>3.4±0.1 mmHg at 25°C</td>\n",
       "      <td>https://www.chemspider.com/Chemical-Structure....</td>\n",
       "      <td>3.4</td>\n",
       "    </tr>\n",
       "  </tbody>\n",
       "</table>\n",
       "</div>"
      ],
      "text/plain": [
       "                  name         cas  composition                 fetched_name  \\\n",
       "0         alpha-Pinene     80-56-8        0.281                 (+)-α-Pinene   \n",
       "1       delta-3-Carene  13466-78-9        0.237                       carene   \n",
       "2  Caryophyllene oxide   1139-30-6        0.049  (−)-β-Caryophyllene epoxide   \n",
       "3       delta-Cadinene    483-76-1        0.048                   d-Cadinene   \n",
       "4             Camphene     79-92-5        0.034                     Camphene   \n",
       "\n",
       "        vapour_pressure                                                url  \\\n",
       "0  3.5±0.1 mmHg at 25°C  https://www.chemspider.com/Chemical-Structure....   \n",
       "1  1.9±0.1 mmHg at 25°C  https://www.chemspider.com/Chemical-Structure....   \n",
       "2  0.0±0.6 mmHg at 25°C  https://www.chemspider.com/Chemical-Structure....   \n",
       "3  0.0±0.3 mmHg at 25°C  https://www.chemspider.com/Chemical-Structure....   \n",
       "4  3.4±0.1 mmHg at 25°C  https://www.chemspider.com/Chemical-Structure....   \n",
       "\n",
       "   vapour_pressure2  \n",
       "0               3.5  \n",
       "1               1.9  \n",
       "2               0.0  \n",
       "3               0.0  \n",
       "4               3.4  "
      ]
     },
     "execution_count": 5,
     "metadata": {},
     "output_type": "execute_result"
    }
   ],
   "source": [
    "df = pd.concat([df_pine,df_fetched], axis=1)\n",
    "df.head()"
   ]
  },
  {
   "cell_type": "code",
   "execution_count": 6,
   "metadata": {},
   "outputs": [],
   "source": [
    "def accept_cookies(driver,url):\n",
    "    driver.get(url)\n",
    "    time.sleep(3)\n",
    "    cookies = driver.find_elements(By.ID, 'onetrust-accept-btn-handler')\n",
    "    cookies[0].click()\n",
    "    time.sleep(1)\n",
    "    return"
   ]
  },
  {
   "cell_type": "code",
   "execution_count": 7,
   "metadata": {},
   "outputs": [],
   "source": [
    "def detect_water_sol(text):\n",
    "    # Pattern to extract water solubility values\n",
    "    # From [logP, stucture, experimental]\n",
    "    pattern = r\"Water Solubility at 25 deg C \\(mg/L\\):\\s+([\\d.]+)|Wat Sol \\(v1\\.01 est\\)\\s*=\\s*([\\d.]+) mg/L|Wat Sol \\(Exper\\. database match\\)\\s*=\\s*([\\d.]+)\"\n",
    "\n",
    "\n",
    "    # Find matches\n",
    "    matches = re.findall(pattern, text)\n",
    "    labels = [\"sol. from logP\", \"sol. from structure\", \"sol. experiental\"]\n",
    "    # Extract and format results\n",
    "    water_sol_values = [None for i in range(3)]\n",
    "    for match in matches:\n",
    "        # Each match has two groups; one of them will be filled\n",
    "        for i, val in enumerate(match):\n",
    "            if val != '' and water_sol_values[i]==None:\n",
    "                water_sol_values[i]=float(val)\n",
    "            elif val != '' and water_sol_values[i]!=None:\n",
    "                print(f\"Double value for index {labels[i]} detected\")\n",
    "            \n",
    "        #value = next(v for v in match if v)  # Get the non-empty group\n",
    "        #water_sol_values.append(float(value))  # Convert to float for numerical processing\n",
    "    return water_sol_values"
   ]
  },
  {
   "cell_type": "code",
   "execution_count": 8,
   "metadata": {},
   "outputs": [],
   "source": [
    "def get_add_data(url, driver):\n",
    "    driver.get(url)\n",
    "    time.sleep(3)\n",
    "    \n",
    "    properties_tab = driver.find_element(By.ID, \"tab1\")\n",
    "    properties_tab.click()\n",
    "    time.sleep(1)\n",
    "    acd_tab = driver.find_element(By.ID, \"accordion-acd/labs-title\")\n",
    "    acd_tab.click()\n",
    "    time.sleep(1)\n",
    "    logP_label = driver.find_element(By.XPATH, '//tr[th[text()=\"ACD/LogP\"]]/td')\n",
    "    logP_value = logP_label.text  # Get the text from the corresponding <td>\n",
    "\n",
    "    \n",
    "\n",
    "    mol_name = driver.find_element(By.ID, \"cmp-title-label\").text\n",
    "    current_url = driver.current_url\n",
    "\n",
    "    legacy_btns = driver.find_elements(By.ID, \"button-download\")\n",
    "    #for i in legacy_btns:\n",
    "        #print(i.get_attribute('outerHTML'))\n",
    "    time.sleep(1)\n",
    "    # Get the parent element using XPath\n",
    "    legacy_url = legacy_btns[1].find_element(By.XPATH, \"..\").get_attribute('href')\n",
    "    #print(legacy_url)\n",
    "    driver.get(legacy_url)\n",
    "    time.sleep(3)\n",
    "    driver.find_element(By.ID, \"ctl00_ctl00_ContentSection_ContentPlaceHolder1_RecordViewTabDetailsControl_prop\").click()\n",
    "    time.sleep(2)\n",
    "    epi_pred = driver.find_elements(By.XPATH, \"//*[text()=' - EPISuite']\")\n",
    "    if len(epi_pred) != 1:\n",
    "        print(\"Warning: tab error!\")\n",
    "    #print(epi_pred[0].text)\n",
    "    epi_pred[0].click()\n",
    "\n",
    "    \n",
    "    time.sleep(1)\n",
    "    predicted = driver.find_element(By.TAG_NAME, \"pre\")\n",
    "    #print(predicted.text)\n",
    "    water_sol_values = detect_water_sol(predicted.text)\n",
    "    #ui-id-7\n",
    "    #legacy_btns[1].click()\n",
    "    time.sleep(5)\n",
    "    return mol_name, logP_value, legacy_url, water_sol_values"
   ]
  },
  {
   "cell_type": "code",
   "execution_count": 81,
   "metadata": {},
   "outputs": [],
   "source": [
    "def read_extra(df):\n",
    "    options = webdriver.ChromeOptions()\n",
    "    options.page_load_strategy = 'normal'\n",
    "    driver = webdriver.Chrome(options=options)\n",
    "    url=\"https://www.chemspider.com/\"\n",
    "    accept_cookies(driver,url)\n",
    "    #mol_name, logP_value, legacy_url, water_sol_values\n",
    "    results_df = pd.DataFrame({\n",
    "        \"mol_name\":[],\n",
    "        \"logP_value\":[],\n",
    "        \"legacy_url\":[],\n",
    "        \"water_sol_from_logP\":[],\n",
    "        \"water_sol_from_structure\":[],\n",
    "        \"water_sol_experimental\":[]\n",
    "    })\n",
    "    \n",
    "    for i in df.index:\n",
    "        row = list(df[[\"cas\", \"name\", \"url\"]].loc[i])\n",
    "        cas_num = row[0]\n",
    "        name = row[1]\n",
    "        url = row[2]\n",
    "        if name==\"epsilon-Muurolene\":\n",
    "            url =\"https://www.chemspider.com/Chemical-Structure.453991.html\"\n",
    "\n",
    "        if name==\"alpha-Ylangene\":\n",
    "            url=\"https://www.chemspider.com/Chemical-Structure.552232.html\"\n",
    "\n",
    "        print(f\" {i} Fetching {cas_num} ({name})\", end=\" \")\n",
    "        fetched_name, logP_value, legacy_url, water_sol_values =get_add_data(url, driver) \n",
    "        print(f\"={fetched_name} logP: {logP_value} VP: {water_sol_values}\")\n",
    "        results_df.loc[len(results_df)] = [fetched_name, logP_value,legacy_url,water_sol_values[0], water_sol_values[1], water_sol_values[2] ]\n",
    "        if i%10 == 0:\n",
    "            results_df.to_csv(\"extra_data.csv\")\n",
    "    driver.quit()\n",
    "\n",
    "    return results_df"
   ]
  },
  {
   "cell_type": "code",
   "execution_count": 9,
   "metadata": {},
   "outputs": [],
   "source": [
    "def read_extra_from_save(df):\n",
    "    \n",
    "    options = webdriver.ChromeOptions()\n",
    "    options.page_load_strategy = 'normal'\n",
    "    driver = webdriver.Chrome(options=options)\n",
    "    url=\"https://www.chemspider.com/\"\n",
    "    accept_cookies(driver,url)\n",
    "    #mol_name, logP_value, legacy_url, water_sol_values\n",
    "    results_df = pd.read_csv(\"extra_data.csv\")[[\"mol_name\",\"logP_value\",\"legacy_url\",\"water_sol_from_logP\",\"water_sol_from_structure\",\"water_sol_experimental\"]]\n",
    "    first_index = len(results_df)\n",
    "    for i in df.index:\n",
    "        if i >= first_index:\n",
    "            row = list(df[[\"cas\", \"name\", \"url\"]].loc[i])\n",
    "            cas_num = row[0]\n",
    "            name = row[1]\n",
    "            url = row[2]\n",
    "            if name==\"epsilon-Muurolene\":\n",
    "                url =\"https://www.chemspider.com/Chemical-Structure.453991.html\"\n",
    "\n",
    "            if name==\"alpha-Ylangene\":\n",
    "                url=\"https://www.chemspider.com/Chemical-Structure.552232.html\"\n",
    "\n",
    "            print(f\" {i} Fetching {cas_num} ({name})\", end=\" \")\n",
    "            fetched_name, logP_value, legacy_url, water_sol_values =get_add_data(url, driver) \n",
    "            print(f\"={fetched_name} logP: {logP_value} VP: {water_sol_values}\")\n",
    "            results_df.loc[len(results_df)] = [fetched_name, logP_value,legacy_url,water_sol_values[0], water_sol_values[1], water_sol_values[2] ]\n",
    "            if i%10 == 0:\n",
    "                results_df.to_csv(\"extra_data.csv\", index=False)\n",
    "    driver.quit()\n",
    "\n",
    "    return results_df"
   ]
  },
  {
   "cell_type": "code",
   "execution_count": 77,
   "metadata": {},
   "outputs": [
    {
     "name": "stdout",
     "output_type": "stream",
     "text": [
      " 0 Fetching 80-56-8 (alpha-Pinene) =(+)-α-Pinene logP: 4.37 VP: [4.071, 3.4834, 2.49]\n",
      " 1 Fetching 13466-78-9 (delta-3-Carene) =carene logP: 4.37 VP: [4.581, 3.4834, None]\n",
      " 2 Fetching 1139-30-6 (Caryophyllene oxide) =(−)-β-Caryophyllene epoxide logP: 4.57 VP: [2.21, 4.626, None]\n",
      " 3 Fetching 483-76-1 (delta-Cadinene) =d-Cadinene logP: 6.54 VP: [0.04863, 0.80763, None]\n",
      " 4 Fetching 79-92-5 (Camphene) =Camphene logP: 4.37 VP: [6.275, 2.6192, 4.6]\n",
      " 5 Fetching 87-44-5 (beta-Caryophyllene) =(−)-β-caryophyllene logP: 6.78 VP: [0.05011, 0.54268, None]\n",
      " 6 Fetching 31983-22-9 (alpha-Muurolene) =α-Muurolene logP: 6.56 VP: [0.06276, 0.5123, None]\n",
      " 7 Fetching 481-34-5 (alpha-Cadinol) =alpha-cadinol logP: 4.95 VP: [9.13, 14.739, None]\n",
      " 8 Fetching 586-62-9 (Terpinolene) =TERPINOLENE logP: 4.67 VP: [3.838, 93.066, 9.5]\n",
      " 9 Fetching 127-91-3 (beta-Pinene) =(±)-β-Pinene logP: 4.37 VP: [7.061, 2.6192, None]\n",
      " 10 Fetching 123-35-3 (Myrcene) =β-Myrcene logP: 4.58 VP: [6.923, 17.814, 5.6]\n",
      " 11 Fetching 30021-74-0 (gamma-Muurolene) =(1R,4aR,8aS)-1-Isopropyl-7-methyl-4-methylene-1,2,3,4,4a,5,6,8a-octahydronaphthalene logP: 6.54 VP: [0.05378, 0.3852, None]\n",
      " 12 Fetching 76-49-3 (Bornyl acetate) =(+)-Bornyl acetate logP: 3.60 VP: [9.721, 42.514, None]\n",
      " 13 Fetching 3779-61-1 ((E)-beta-Ocimene) =trans-β-Ocimene logP: 4.70 VP: [2.012, 38.089, None]\n",
      " 14 Fetching 39029-41-9 (gamma-Cadinene) =Î³-Cadinene logP: 6.54 VP: [0.05378, 0.3852, None]\n",
      " 15 Fetching 3387-41-5 (Sabinene) =(±)-Sabinene logP: 4.13 VP: [2.494, 2.6192, None]\n",
      " 16 Fetching 19912-62-0 (T-Muurolol) =(−)-τ-muurolol logP: 4.95 VP: [9.13, 14.739, None]\n",
      " 17 Fetching 138-86-3 (Limonene) Double value for index sol. experiental detected\n",
      "=(±)-Limonene logP: 4.45 VP: [4.581, 44.388, 13.8]\n",
      " 18 Fetching 502-61-4 (alpha-Farnesene) =(E,E)-α-Farnesene logP: 6.73 VP: [0.01053, 0.42892, None]\n",
      " 19 Fetching 508-32-7 (Tricyclene) =cyclene logP: 4.04 VP: [7.484, 0.32846, None]\n",
      " 20 Fetching 470-82-6 (1,8-Cineole) =(±)-Eucalyptol logP: 2.82 VP: [332.1, 551.66, 3500.0]\n",
      " 21 Fetching 555-10-2 (beta-Phellandrene) =β-Phellandrene logP: 4.35 VP: [2.452, 28.156, None]\n",
      " 22 Fetching 80-26-2 (alpha-Terpinyl acetate) =(±)-α-Terpinyl acetate logP: 3.67 VP: [18.97, 101.2, None]\n",
      " 23 Fetching 6753-98-6 (alpha-Humulene) =Humulene logP: 7.03 VP: [0.01396, 1.5354, None]\n",
      " 24 Fetching 5937-11-1 (T-Cadinol) =τ-Cadinol logP: 4.95 VP: [9.13, 14.739, None]\n",
      " 25 Fetching 562-74-3 (Terpinen-4-ol) =4-terpineol logP: 2.99 VP: [386.6, 1767.3, None]\n",
      " 26 Fetching 507-70-0 (Borneol) Double value for index sol. experiental detected\n",
      "=(+)-borneol logP: 2.71 VP: [1186.0, 742.39, 740.0]\n",
      " 27 Fetching 515-13-9 (beta-Elemene) =Elemene logP: 6.63 VP: [0.01172, 0.27444, None]\n",
      " 28 Fetching 99-85-4 (gamma-Terpinene) =γ-Terpinene logP: 4.36 VP: [3.618, 59.034, 8.68]\n",
      " 29 Fetching 3917-48-4 (alpha-Thujene) =(−)-α-thujene logP: 4.13 VP: [2.91, 3.4834, None]\n",
      " 30 Fetching 483-77-2 (Calamenene) =calamenene logP: 6.23 VP: [0.1962, 0.24862, None]\n",
      " 31 Fetching 19435-97-3 (alpha-Muurolol) =Torreyol logP: 4.95 VP: [9.13, 14.739, None]\n",
      " 32 Fetching 77129-48-7 (beta-Farnesene) =β-FARNESENE logP: 6.62 VP: [0.009022, 0.20061, None]\n",
      " 33 Fetching 15423-57-1 (Germacrene B) =germacrene B logP: 7.08 VP: [0.008994, 2.7086, None]\n",
      " 34 Fetching 99-86-5 (alpha-Terpinene) =α-Terpinene logP: 4.53 VP: [5.915, 59.034, None]\n",
      " 35 Fetching 99-83-2 (alpha-Phellandrene) =α-Phellandrene logP: 4.43 VP: [2.862, 37.447, None]\n",
      " 36 Fetching 25548-04-3 (epsilon-Muurolene) =4-Isopropyl-1,6-bis(methylene)decahydronaphthalene logP: 6.48 VP: [0.04607, 0.28963, None]\n",
      " 37 Fetching 88-84-6 (beta-Guaiene) =β-Guaiene logP: 6.61 VP: [0.01923, 1.2732, None]\n",
      " 38 Fetching 5208-59-3 (beta-Bourbonene) =(1S,3aS,3bR,6aS,6bR)-1-Isopropyl-3a-methyl-6-methylenedecahydrocyclopenta[3,4]cyclobuta[1,2]cyclopentene logP: 6.17 VP: [0.271, 0.022729, None]\n",
      " 39 Fetching 20307-84-0 (delta-Elemene) =δ-Elemene logP: 6.45 VP: [0.01368, 0.365, None]\n",
      " 40 Fetching 98-55-5 (alpha-Terpineol) Double value for index sol. experiental detected\n",
      "=Terpineol logP: 2.79 VP: [371.7, 1767.3, 710.0]\n",
      " 41 Fetching 99-87-6 (para-Cymene) Double value for index sol. experiental detected\n",
      "=p-cymene logP: 4.02 VP: [27.88, 28.93, 23.4]\n",
      " 42 Fetching 3691-12-1 (alpha-Guaiene) =α-Guaiene logP: 6.58 VP: [0.03356, 0.22797, None]\n",
      " 43 Fetching 475-20-7 (Longifolene) =(+)-Longifolene logP: 6.39 VP: [0.2525, 0.032021, None]\n",
      " 44 Fetching 3856-25-5 (alpha-Copaene) =Copaene logP: 6.17 VP: [0.3163, 0.030229, None]\n",
      " 45 Fetching 29350-73-0 (Cadinene (unknown isomer)) =1-Isopropyl-4,7-dimethyl-1,2,4a,5,8,8a-hexahydronaphthalene logP: 6.55 VP: [0.06276, 0.5123, None]\n",
      " 46 Fetching 18252-44-3 (beta-Copaene) =β-Copaene logP: 6.17 VP: [0.271, 0.022729, None]\n",
      " 47 Fetching 106-22-9 (Citronellol) =Citronellol logP: 3.38 VP: [105.5, 472.85, None]\n",
      " 48 Fetching 106-24-1 (Geraniol) =Geraniol logP: 3.28 VP: [255.8, 1012.6, 100.0]\n",
      " 49 Fetching 17699-14-8 (alpha-Cubebene) =α-CUBEBENE logP: 6.15 VP: [0.02119, 0.011754, None]\n",
      " 50 Fetching 76-22-2 (Camphor) Double value for index sol. experiental detected\n",
      "=(±)-Camphor logP: 2.13 VP: [339.1, 706.1, 1600.0]\n",
      " 51 Fetching 947-59-1 (alpha-Ylangene) Warning: tab error!\n"
     ]
    },
    {
     "ename": "IndexError",
     "evalue": "list index out of range",
     "output_type": "error",
     "traceback": [
      "\u001b[1;31m---------------------------------------------------------------------------\u001b[0m",
      "\u001b[1;31mIndexError\u001b[0m                                Traceback (most recent call last)",
      "Cell \u001b[1;32mIn[77], line 1\u001b[0m\n\u001b[1;32m----> 1\u001b[0m soldata_df \u001b[38;5;241m=\u001b[39m \u001b[43mread_extra\u001b[49m\u001b[43m(\u001b[49m\u001b[43mdf\u001b[49m\u001b[43m)\u001b[49m\n",
      "Cell \u001b[1;32mIn[76], line 26\u001b[0m, in \u001b[0;36mread_extra\u001b[1;34m(df)\u001b[0m\n\u001b[0;32m     23\u001b[0m     url \u001b[38;5;241m=\u001b[39m\u001b[38;5;124m\"\u001b[39m\u001b[38;5;124mhttps://www.chemspider.com/Chemical-Structure.453991.html\u001b[39m\u001b[38;5;124m\"\u001b[39m\n\u001b[0;32m     25\u001b[0m \u001b[38;5;28mprint\u001b[39m(\u001b[38;5;124mf\u001b[39m\u001b[38;5;124m\"\u001b[39m\u001b[38;5;124m \u001b[39m\u001b[38;5;132;01m{\u001b[39;00mi\u001b[38;5;132;01m}\u001b[39;00m\u001b[38;5;124m Fetching \u001b[39m\u001b[38;5;132;01m{\u001b[39;00mcas_num\u001b[38;5;132;01m}\u001b[39;00m\u001b[38;5;124m (\u001b[39m\u001b[38;5;132;01m{\u001b[39;00mname\u001b[38;5;132;01m}\u001b[39;00m\u001b[38;5;124m)\u001b[39m\u001b[38;5;124m\"\u001b[39m, end\u001b[38;5;241m=\u001b[39m\u001b[38;5;124m\"\u001b[39m\u001b[38;5;124m \u001b[39m\u001b[38;5;124m\"\u001b[39m)\n\u001b[1;32m---> 26\u001b[0m fetched_name, logP_value, legacy_url, water_sol_values \u001b[38;5;241m=\u001b[39m\u001b[43mget_add_data\u001b[49m\u001b[43m(\u001b[49m\u001b[43murl\u001b[49m\u001b[43m,\u001b[49m\u001b[43m \u001b[49m\u001b[43mdriver\u001b[49m\u001b[43m)\u001b[49m \n\u001b[0;32m     27\u001b[0m \u001b[38;5;28mprint\u001b[39m(\u001b[38;5;124mf\u001b[39m\u001b[38;5;124m\"\u001b[39m\u001b[38;5;124m=\u001b[39m\u001b[38;5;132;01m{\u001b[39;00mfetched_name\u001b[38;5;132;01m}\u001b[39;00m\u001b[38;5;124m logP: \u001b[39m\u001b[38;5;132;01m{\u001b[39;00mlogP_value\u001b[38;5;132;01m}\u001b[39;00m\u001b[38;5;124m VP: \u001b[39m\u001b[38;5;132;01m{\u001b[39;00mwater_sol_values\u001b[38;5;132;01m}\u001b[39;00m\u001b[38;5;124m\"\u001b[39m)\n\u001b[0;32m     28\u001b[0m results_df\u001b[38;5;241m.\u001b[39mloc[\u001b[38;5;28mlen\u001b[39m(results_df)] \u001b[38;5;241m=\u001b[39m [fetched_name, logP_value,legacy_url,water_sol_values[\u001b[38;5;241m0\u001b[39m], water_sol_values[\u001b[38;5;241m1\u001b[39m], water_sol_values[\u001b[38;5;241m2\u001b[39m] ]\n",
      "Cell \u001b[1;32mIn[75], line 34\u001b[0m, in \u001b[0;36mget_add_data\u001b[1;34m(url, driver)\u001b[0m\n\u001b[0;32m     32\u001b[0m     \u001b[38;5;28mprint\u001b[39m(\u001b[38;5;124m\"\u001b[39m\u001b[38;5;124mWarning: tab error!\u001b[39m\u001b[38;5;124m\"\u001b[39m)\n\u001b[0;32m     33\u001b[0m \u001b[38;5;66;03m#print(epi_pred[0].text)\u001b[39;00m\n\u001b[1;32m---> 34\u001b[0m \u001b[43mepi_pred\u001b[49m\u001b[43m[\u001b[49m\u001b[38;5;241;43m0\u001b[39;49m\u001b[43m]\u001b[49m\u001b[38;5;241m.\u001b[39mclick()\n\u001b[0;32m     37\u001b[0m time\u001b[38;5;241m.\u001b[39msleep(\u001b[38;5;241m1\u001b[39m)\n\u001b[0;32m     38\u001b[0m predicted \u001b[38;5;241m=\u001b[39m driver\u001b[38;5;241m.\u001b[39mfind_element(By\u001b[38;5;241m.\u001b[39mTAG_NAME, \u001b[38;5;124m\"\u001b[39m\u001b[38;5;124mpre\u001b[39m\u001b[38;5;124m\"\u001b[39m)\n",
      "\u001b[1;31mIndexError\u001b[0m: list index out of range"
     ]
    }
   ],
   "source": [
    "soldata_df = read_extra(df)"
   ]
  },
  {
   "cell_type": "code",
   "execution_count": 10,
   "metadata": {},
   "outputs": [
    {
     "name": "stdout",
     "output_type": "stream",
     "text": [
      " 51 Fetching 947-59-1 (alpha-Ylangene) =(1S,2R,6R,7R,8R)-8-Isopropyl-1,3-dimethyltricyclo[4.4.0.0~2,7~]dec-3-ene logP: 6.17 VP: [0.3163, 0.030229, None]\n",
      " 52 Fetching 141-12-8 (Neryl acetate) =Neryl Acetate logP: 4.10 VP: [18.24, 57.985, None]\n",
      " 53 Fetching 105-87-3 (Geranyl acetate) =Geranyl acetate logP: 4.10 VP: [18.24, 57.985, None]\n"
     ]
    }
   ],
   "source": [
    "soldata_df = read_extra_from_save(df)"
   ]
  },
  {
   "cell_type": "code",
   "execution_count": 12,
   "metadata": {},
   "outputs": [
    {
     "data": {
      "text/plain": [
       "54"
      ]
     },
     "execution_count": 12,
     "metadata": {},
     "output_type": "execute_result"
    }
   ],
   "source": [
    "len(soldata_df)"
   ]
  },
  {
   "cell_type": "code",
   "execution_count": 13,
   "metadata": {},
   "outputs": [],
   "source": [
    "soldata_df.to_csv(\"extra_data.csv\", index=False)"
   ]
  },
  {
   "cell_type": "code",
   "execution_count": 80,
   "metadata": {},
   "outputs": [
    {
     "data": {
      "text/plain": [
       "'https://www.chemspider.com/Chemical-Structure.34987048.html'"
      ]
     },
     "execution_count": 80,
     "metadata": {},
     "output_type": "execute_result"
    }
   ],
   "source": [
    "df.loc[51][\"url\"]"
   ]
  },
  {
   "cell_type": "code",
   "execution_count": 82,
   "metadata": {},
   "outputs": [
    {
     "name": "stdout",
     "output_type": "stream",
     "text": [
      "Warning: tab error!\n"
     ]
    },
    {
     "ename": "IndexError",
     "evalue": "list index out of range",
     "output_type": "error",
     "traceback": [
      "\u001b[1;31m---------------------------------------------------------------------------\u001b[0m",
      "\u001b[1;31mIndexError\u001b[0m                                Traceback (most recent call last)",
      "Cell \u001b[1;32mIn[82], line 7\u001b[0m\n\u001b[0;32m      5\u001b[0m accept_cookies(driver,url)\n\u001b[0;32m      6\u001b[0m url \u001b[38;5;241m=\u001b[39m df\u001b[38;5;241m.\u001b[39mloc[\u001b[38;5;241m51\u001b[39m][\u001b[38;5;124m\"\u001b[39m\u001b[38;5;124murl\u001b[39m\u001b[38;5;124m\"\u001b[39m]\n\u001b[1;32m----> 7\u001b[0m \u001b[38;5;28mprint\u001b[39m(\u001b[43mget_add_data\u001b[49m\u001b[43m(\u001b[49m\u001b[43murl\u001b[49m\u001b[43m,\u001b[49m\u001b[43m \u001b[49m\u001b[43mdriver\u001b[49m\u001b[43m)\u001b[49m)\n\u001b[0;32m      8\u001b[0m driver\u001b[38;5;241m.\u001b[39mquit()\n",
      "Cell \u001b[1;32mIn[75], line 34\u001b[0m, in \u001b[0;36mget_add_data\u001b[1;34m(url, driver)\u001b[0m\n\u001b[0;32m     32\u001b[0m     \u001b[38;5;28mprint\u001b[39m(\u001b[38;5;124m\"\u001b[39m\u001b[38;5;124mWarning: tab error!\u001b[39m\u001b[38;5;124m\"\u001b[39m)\n\u001b[0;32m     33\u001b[0m \u001b[38;5;66;03m#print(epi_pred[0].text)\u001b[39;00m\n\u001b[1;32m---> 34\u001b[0m \u001b[43mepi_pred\u001b[49m\u001b[43m[\u001b[49m\u001b[38;5;241;43m0\u001b[39;49m\u001b[43m]\u001b[49m\u001b[38;5;241m.\u001b[39mclick()\n\u001b[0;32m     37\u001b[0m time\u001b[38;5;241m.\u001b[39msleep(\u001b[38;5;241m1\u001b[39m)\n\u001b[0;32m     38\u001b[0m predicted \u001b[38;5;241m=\u001b[39m driver\u001b[38;5;241m.\u001b[39mfind_element(By\u001b[38;5;241m.\u001b[39mTAG_NAME, \u001b[38;5;124m\"\u001b[39m\u001b[38;5;124mpre\u001b[39m\u001b[38;5;124m\"\u001b[39m)\n",
      "\u001b[1;31mIndexError\u001b[0m: list index out of range"
     ]
    }
   ],
   "source": [
    "options = webdriver.ChromeOptions()\n",
    "options.page_load_strategy = 'normal'\n",
    "driver = webdriver.Chrome(options=options)\n",
    "url=\"https://www.chemspider.com/\"\n",
    "accept_cookies(driver,url)\n",
    "url = df.loc[51][\"url\"]\n",
    "print(get_add_data(url, driver))\n",
    "driver.quit()"
   ]
  },
  {
   "cell_type": "code",
   "execution_count": null,
   "metadata": {},
   "outputs": [],
   "source": []
  }
 ],
 "metadata": {
  "kernelspec": {
   "display_name": "venv",
   "language": "python",
   "name": "python3"
  },
  "language_info": {
   "codemirror_mode": {
    "name": "ipython",
    "version": 3
   },
   "file_extension": ".py",
   "mimetype": "text/x-python",
   "name": "python",
   "nbconvert_exporter": "python",
   "pygments_lexer": "ipython3",
   "version": "3.10.9"
  }
 },
 "nbformat": 4,
 "nbformat_minor": 2
}
